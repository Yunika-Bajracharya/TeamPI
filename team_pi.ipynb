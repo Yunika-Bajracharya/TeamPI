{
  "cells": [
    {
      "cell_type": "markdown",
      "metadata": {
        "id": "view-in-github",
        "colab_type": "text"
      },
      "source": [
        "<a href=\"https://colab.research.google.com/github/Yunika-Bajracharya/TeamPI/blob/main/team_pi.ipynb\" target=\"_parent\"><img src=\"https://colab.research.google.com/assets/colab-badge.svg\" alt=\"Open In Colab\"/></a>"
      ]
    },
    {
      "cell_type": "code",
      "execution_count": 1,
      "metadata": {
        "id": "wP0AxcKxfQVT"
      },
      "outputs": [],
      "source": [
        "import os\n",
        "import random\n",
        "root = \"/content/drive/MyDrive/dataset\"\n",
        "folders = os.walk(root)\n",
        "list_of_folders = next(folders)[1]\n",
        "list_of_folders.sort()\n",
        "\n",
        "train = []\n",
        "valid = []\n",
        "\n",
        "for folder in list_of_folders:\n",
        "  folder_path = os.path.join(root, folder)\n",
        "  subfolders = next(os.walk(folder_path))[1]\n",
        "  \n",
        "  for subfolder in subfolders:\n",
        "    subfolder_path = (os.path.join(folder_path, subfolder))\n",
        "    subfolders = next(os.walk(folder_path))[1]\n",
        "\n",
        "    files = [f for f in os.listdir(subfolder_path) if os.path.isfile(os.path.join(subfolder_path, f))]\n",
        "\n",
        "    for file_name in files:\n",
        "      if random.uniform(0, 1) < 0.8:\n",
        "        train.append([os.path.join(subfolder_path, file_name), 1 if subfolder == \"fall\" else 0])\n",
        "      else:\n",
        "        valid.append([os.path.join(subfolder_path, file_name), 1 if subfolder == \"fall\" else 0])\n",
        "\n",
        "# 80 - 20 split to training & validation data"
      ]
    },
    {
      "cell_type": "code",
      "execution_count": 2,
      "metadata": {
        "id": "H7PThPcqmVy6",
        "colab": {
          "base_uri": "https://localhost:8080/"
        },
        "outputId": "fe0bada2-98b6-4021-c2e0-6359b9b8a419"
      },
      "outputs": [
        {
          "output_type": "stream",
          "name": "stdout",
          "text": [
            "                                                  path  fall\n",
            "0    /content/drive/MyDrive/dataset/Anju/notFall/da...     0\n",
            "1    /content/drive/MyDrive/dataset/Anju/notFall/da...     0\n",
            "2    /content/drive/MyDrive/dataset/Anju/notFall/da...     0\n",
            "3    /content/drive/MyDrive/dataset/Anju/notFall/da...     0\n",
            "4    /content/drive/MyDrive/dataset/Anju/notFall/da...     0\n",
            "..                                                 ...   ...\n",
            "96   /content/drive/MyDrive/dataset/dhirendraBhai/n...     0\n",
            "97   /content/drive/MyDrive/dataset/dhirendraBhai/n...     0\n",
            "98   /content/drive/MyDrive/dataset/dhirendraBhai/n...     0\n",
            "99   /content/drive/MyDrive/dataset/dhirendraBhai/n...     0\n",
            "100  /content/drive/MyDrive/dataset/dhirendraBhai/n...     0\n",
            "\n",
            "[101 rows x 2 columns]\n"
          ]
        }
      ],
      "source": [
        "import pandas as pd\n",
        "\n",
        "train_df = pd.DataFrame(train, columns=['path', 'fall'])\n",
        "valid_df = pd.DataFrame(valid, columns=['path', 'fall'])\n",
        "print(train_df)"
      ]
    },
    {
      "cell_type": "code",
      "execution_count": 3,
      "metadata": {
        "id": "wbvazqKtnMHE",
        "colab": {
          "base_uri": "https://localhost:8080/"
        },
        "outputId": "c6fea1b2-524f-4df3-dcff-01cfd77a1411"
      },
      "outputs": [
        {
          "output_type": "execute_result",
          "data": {
            "text/plain": [
              "1    52\n",
              "0    49\n",
              "Name: fall, dtype: int64"
            ]
          },
          "metadata": {},
          "execution_count": 3
        }
      ],
      "source": [
        "train_df.fall.value_counts()"
      ]
    },
    {
      "cell_type": "code",
      "source": [
        "valid_df.fall.value_counts()"
      ],
      "metadata": {
        "colab": {
          "base_uri": "https://localhost:8080/"
        },
        "id": "gTGj6ffBxRv-",
        "outputId": "7538db3d-e6f1-46d8-a7d0-9452a3228899"
      },
      "execution_count": 4,
      "outputs": [
        {
          "output_type": "execute_result",
          "data": {
            "text/plain": [
              "0    10\n",
              "1     7\n",
              "Name: fall, dtype: int64"
            ]
          },
          "metadata": {},
          "execution_count": 4
        }
      ]
    },
    {
      "cell_type": "code",
      "source": [
        "shapes = []\n",
        "import torch\n",
        "\n",
        "for i in range(len(train_df)):\n",
        "  csv_path = train_df.iloc[i, 0]\n",
        "  mat = pd.read_csv(csv_path)\n",
        "  mat = [list(mat[x]) for x in ['ax', 'ay', 'az', 'gx', 'gy', 'gz']]\n",
        "  mat = torch.tensor(mat)\n",
        "  if mat.shape[1] < 10:\n",
        "    print(csv_path)\n",
        "  shapes.append(mat.shape[1])\n",
        "\n",
        "print(shapes)\n",
        "mat_min = min(shapes) # csv to tensor"
      ],
      "metadata": {
        "colab": {
          "base_uri": "https://localhost:8080/"
        },
        "id": "GCdmH0GlxVlD",
        "outputId": "2ba191ba-647e-4e4c-cb16-c146e66be8d7"
      },
      "execution_count": 5,
      "outputs": [
        {
          "output_type": "stream",
          "name": "stdout",
          "text": [
            "[126, 120, 121, 120, 119, 131, 108, 127, 131, 128, 129, 127, 132, 138, 134, 132, 138, 139, 144, 133, 136, 133, 140, 137, 134, 136, 134, 136, 135, 136, 135, 128, 130, 129, 141, 138, 132, 143, 92, 137, 137, 141, 142, 138, 135, 144, 139, 121, 123, 94, 120, 120, 128, 122, 119, 128, 130, 126, 128, 128, 133, 131, 88, 132, 134, 133, 142, 134, 137, 134, 121, 129, 133, 132, 134, 134, 135, 132, 135, 133, 133, 136, 127, 127, 129, 128, 130, 129, 129, 131, 132, 128, 136, 138, 134, 138, 139, 136, 137, 138, 136]\n"
          ]
        }
      ]
    },
    {
      "cell_type": "code",
      "source": [
        "import os\n",
        "import torch\n",
        "import pandas as pd\n",
        "from torch.utils.data import Dataset, IterableDataset\n",
        "\n",
        "def mat_to_tensor(mat_path):\n",
        "  mat = pd.read_csv(mat_path)\n",
        "  mat = mat.dropna()\n",
        "  mat = [list(mat[x]) for x in ['ax', 'ay', 'az', 'gx', 'gy', 'gz']]\n",
        "  mat = torch.tensor(mat)\n",
        "  return mat\n",
        "\n",
        "class IMUSet(Dataset):\n",
        "    def __init__(self, data_df):\n",
        "        self.data_df = data_df # data_df == train_df / valid_df\n",
        "\n",
        "    def __len__(self):\n",
        "        return len(self.data_df)\n",
        "\n",
        "    def __getitem__(self, idx):\n",
        "        mat_path = self.data_df.iloc[idx, 0]\n",
        "        t = mat_to_tensor(mat_path)\n",
        "        label = self.data_df.iloc[idx, 1]\n",
        "        return t, label"
      ],
      "metadata": {
        "id": "hGz5Eltf2Q5w"
      },
      "execution_count": 6,
      "outputs": []
    },
    {
      "cell_type": "code",
      "source": [
        "from torch.utils.data import DataLoader\n",
        "\n",
        "imuset = IMUSet(train_df) # make dataset\n",
        "\n",
        "train_dataloader = DataLoader(imuset, shuffle=True) # load data multiple "
      ],
      "metadata": {
        "id": "D8UW-U5k298F"
      },
      "execution_count": 7,
      "outputs": []
    },
    {
      "cell_type": "code",
      "source": [
        "valid_dataset = IMUSet(valid_df)\n",
        "valid_dataloader = DataLoader(valid_dataset, shuffle=True)\n",
        "\n",
        "valid_features, valid_labels = next(iter(valid_dataloader))\n",
        "\n",
        "valid_features.shape, valid_labels.shape"
      ],
      "metadata": {
        "colab": {
          "base_uri": "https://localhost:8080/"
        },
        "id": "JoIVWRr75hWS",
        "outputId": "b31fb956-e9bb-4b6b-9969-5ba24a94783b"
      },
      "execution_count": 8,
      "outputs": [
        {
          "output_type": "execute_result",
          "data": {
            "text/plain": [
              "(torch.Size([1, 6, 130]), torch.Size([1]))"
            ]
          },
          "metadata": {},
          "execution_count": 8
        }
      ]
    },
    {
      "cell_type": "markdown",
      "source": [
        "**GRU**"
      ],
      "metadata": {
        "id": "AQP6qfIsEFF8"
      }
    },
    {
      "cell_type": "code",
      "source": [
        "from torch import nn\n",
        "import torch.nn.functional as F\n",
        "\n",
        "class FallDetector(nn.Module):\n",
        "    def __init__(self):\n",
        "        super(FallDetector, self).__init__()\n",
        "        self.gru = nn.GRU(6, 30, num_layers=2)\n",
        "        self.hidden2tag = nn.Linear(30, 1)\n",
        "\n",
        "    def forward(self, seq):\n",
        "        output, (h_n, c_n) = self.gru(seq.view(len(seq), 1, -1))\n",
        "        tag_space = self.hidden2tag(c_n.view(1, -1))\n",
        "        # print(tag_space.data)\n",
        "        tag_scores = torch.sigmoid(tag_space) # output changed to 0-1\n",
        "        return tag_scores.view(-1)"
      ],
      "metadata": {
        "id": "67owPWHi5vr7"
      },
      "execution_count": 9,
      "outputs": []
    },
    {
      "cell_type": "code",
      "source": [
        "import torch.optim as optim\n",
        "\n",
        "model = FallDetector()\n",
        "loss_function = nn.BCELoss() \n",
        "optimizer = optim.Adam(model.parameters()) # SGD & RMSprop & Adam : alternatives"
      ],
      "metadata": {
        "id": "l2WJyGd47PVH"
      },
      "execution_count": 10,
      "outputs": []
    },
    {
      "cell_type": "code",
      "source": [
        "import numpy as np\n",
        "\n",
        "from sklearn.metrics import confusion_matrix, accuracy_score, recall_score\n",
        "\n",
        "def get_statistics(y_true, y_pred):\n",
        "    y_pred = np.concatenate(tuple(y_pred)) > 0.5\n",
        "    y_true = np.concatenate(tuple([[t for t in y] for y in y_true])).reshape(y_pred.shape)\n",
        "\n",
        "    print(\"Accuracy: \", accuracy_score(y_true, y_pred))\n",
        "    print(\"Recall: \", recall_score(y_true, y_pred))\n",
        "    print(len(y_true))\n",
        "\n",
        "    print(\"Confusion Matrix\")\n",
        "    print(confusion_matrix(y_true, y_pred))"
      ],
      "metadata": {
        "id": "TGJVaT0L8CRw"
      },
      "execution_count": 11,
      "outputs": []
    },
    {
      "cell_type": "code",
      "source": [
        "\n",
        "for epoch in range(50): \n",
        "    labels = []\n",
        "    preds = []\n",
        "    loss = []\n",
        "\n",
        "    i = 0\n",
        "    for seq, label in train_dataloader:\n",
        "        model.zero_grad()\n",
        "\n",
        "        seq = seq.reshape((-1, 6))\n",
        "        tag_scores = model(seq.to(torch.float))\n",
        "        preds.append(tag_scores.data)\n",
        "        labels.append(label.to(torch.float).data)\n",
        "\n",
        "        loss = loss_function(tag_scores, label.to(torch.float))\n",
        "        loss.backward()\n",
        "        optimizer.step()\n",
        "\n",
        "\n",
        "        i += 1\n",
        "    print(\"Epoch Done\")\n",
        "    get_statistics(labels, preds)\n",
        "\n",
        "    # tag_scores[tag_scores > 0.4] = 1\n"
      ],
      "metadata": {
        "colab": {
          "base_uri": "https://localhost:8080/"
        },
        "id": "NICfurnn8Evo",
        "outputId": "61653381-3a32-49f6-b832-5a7a7ce3cb0d"
      },
      "execution_count": 12,
      "outputs": [
        {
          "output_type": "stream",
          "name": "stdout",
          "text": [
            "Epoch Done\n",
            "Accuracy:  0.594059405940594\n",
            "Recall:  0.36538461538461536\n",
            "101\n",
            "Confusion Matrix\n",
            "[[41  8]\n",
            " [33 19]]\n",
            "Epoch Done\n",
            "Accuracy:  0.7029702970297029\n",
            "Recall:  0.7307692307692307\n",
            "101\n",
            "Confusion Matrix\n",
            "[[33 16]\n",
            " [14 38]]\n",
            "Epoch Done\n",
            "Accuracy:  0.7425742574257426\n",
            "Recall:  0.7115384615384616\n",
            "101\n",
            "Confusion Matrix\n",
            "[[38 11]\n",
            " [15 37]]\n",
            "Epoch Done\n",
            "Accuracy:  0.8415841584158416\n",
            "Recall:  0.8076923076923077\n",
            "101\n",
            "Confusion Matrix\n",
            "[[43  6]\n",
            " [10 42]]\n",
            "Epoch Done\n",
            "Accuracy:  0.8514851485148515\n",
            "Recall:  0.8846153846153846\n",
            "101\n",
            "Confusion Matrix\n",
            "[[40  9]\n",
            " [ 6 46]]\n",
            "Epoch Done\n",
            "Accuracy:  0.8316831683168316\n",
            "Recall:  0.75\n",
            "101\n",
            "Confusion Matrix\n",
            "[[45  4]\n",
            " [13 39]]\n",
            "Epoch Done\n",
            "Accuracy:  0.8613861386138614\n",
            "Recall:  0.8846153846153846\n",
            "101\n",
            "Confusion Matrix\n",
            "[[41  8]\n",
            " [ 6 46]]\n",
            "Epoch Done\n",
            "Accuracy:  0.8613861386138614\n",
            "Recall:  0.9038461538461539\n",
            "101\n",
            "Confusion Matrix\n",
            "[[40  9]\n",
            " [ 5 47]]\n",
            "Epoch Done\n",
            "Accuracy:  0.8613861386138614\n",
            "Recall:  0.8269230769230769\n",
            "101\n",
            "Confusion Matrix\n",
            "[[44  5]\n",
            " [ 9 43]]\n",
            "Epoch Done\n",
            "Accuracy:  0.8613861386138614\n",
            "Recall:  0.8461538461538461\n",
            "101\n",
            "Confusion Matrix\n",
            "[[43  6]\n",
            " [ 8 44]]\n",
            "Epoch Done\n",
            "Accuracy:  0.801980198019802\n",
            "Recall:  0.7884615384615384\n",
            "101\n",
            "Confusion Matrix\n",
            "[[40  9]\n",
            " [11 41]]\n",
            "Epoch Done\n",
            "Accuracy:  0.8514851485148515\n",
            "Recall:  0.8461538461538461\n",
            "101\n",
            "Confusion Matrix\n",
            "[[42  7]\n",
            " [ 8 44]]\n",
            "Epoch Done\n",
            "Accuracy:  0.8415841584158416\n",
            "Recall:  0.8461538461538461\n",
            "101\n",
            "Confusion Matrix\n",
            "[[41  8]\n",
            " [ 8 44]]\n",
            "Epoch Done\n",
            "Accuracy:  0.8910891089108911\n",
            "Recall:  0.9230769230769231\n",
            "101\n",
            "Confusion Matrix\n",
            "[[42  7]\n",
            " [ 4 48]]\n",
            "Epoch Done\n",
            "Accuracy:  0.9603960396039604\n",
            "Recall:  0.9615384615384616\n",
            "101\n",
            "Confusion Matrix\n",
            "[[47  2]\n",
            " [ 2 50]]\n",
            "Epoch Done\n",
            "Accuracy:  0.9504950495049505\n",
            "Recall:  0.9615384615384616\n",
            "101\n",
            "Confusion Matrix\n",
            "[[46  3]\n",
            " [ 2 50]]\n",
            "Epoch Done\n",
            "Accuracy:  0.9108910891089109\n",
            "Recall:  0.8846153846153846\n",
            "101\n",
            "Confusion Matrix\n",
            "[[46  3]\n",
            " [ 6 46]]\n",
            "Epoch Done\n",
            "Accuracy:  0.900990099009901\n",
            "Recall:  0.9423076923076923\n",
            "101\n",
            "Confusion Matrix\n",
            "[[42  7]\n",
            " [ 3 49]]\n",
            "Epoch Done\n",
            "Accuracy:  0.9702970297029703\n",
            "Recall:  0.9807692307692307\n",
            "101\n",
            "Confusion Matrix\n",
            "[[47  2]\n",
            " [ 1 51]]\n",
            "Epoch Done\n",
            "Accuracy:  0.9801980198019802\n",
            "Recall:  1.0\n",
            "101\n",
            "Confusion Matrix\n",
            "[[47  2]\n",
            " [ 0 52]]\n",
            "Epoch Done\n",
            "Accuracy:  0.9900990099009901\n",
            "Recall:  1.0\n",
            "101\n",
            "Confusion Matrix\n",
            "[[48  1]\n",
            " [ 0 52]]\n",
            "Epoch Done\n",
            "Accuracy:  0.9900990099009901\n",
            "Recall:  1.0\n",
            "101\n",
            "Confusion Matrix\n",
            "[[48  1]\n",
            " [ 0 52]]\n",
            "Epoch Done\n",
            "Accuracy:  0.9207920792079208\n",
            "Recall:  0.9038461538461539\n",
            "101\n",
            "Confusion Matrix\n",
            "[[46  3]\n",
            " [ 5 47]]\n",
            "Epoch Done\n",
            "Accuracy:  0.9702970297029703\n",
            "Recall:  0.9807692307692307\n",
            "101\n",
            "Confusion Matrix\n",
            "[[47  2]\n",
            " [ 1 51]]\n",
            "Epoch Done\n",
            "Accuracy:  0.9801980198019802\n",
            "Recall:  1.0\n",
            "101\n",
            "Confusion Matrix\n",
            "[[47  2]\n",
            " [ 0 52]]\n",
            "Epoch Done\n",
            "Accuracy:  0.9702970297029703\n",
            "Recall:  0.9615384615384616\n",
            "101\n",
            "Confusion Matrix\n",
            "[[48  1]\n",
            " [ 2 50]]\n",
            "Epoch Done\n",
            "Accuracy:  0.9702970297029703\n",
            "Recall:  0.9807692307692307\n",
            "101\n",
            "Confusion Matrix\n",
            "[[47  2]\n",
            " [ 1 51]]\n",
            "Epoch Done\n",
            "Accuracy:  0.9504950495049505\n",
            "Recall:  0.9615384615384616\n",
            "101\n",
            "Confusion Matrix\n",
            "[[46  3]\n",
            " [ 2 50]]\n",
            "Epoch Done\n",
            "Accuracy:  0.9702970297029703\n",
            "Recall:  0.9615384615384616\n",
            "101\n",
            "Confusion Matrix\n",
            "[[48  1]\n",
            " [ 2 50]]\n",
            "Epoch Done\n",
            "Accuracy:  0.9900990099009901\n",
            "Recall:  1.0\n",
            "101\n",
            "Confusion Matrix\n",
            "[[48  1]\n",
            " [ 0 52]]\n",
            "Epoch Done\n",
            "Accuracy:  0.9900990099009901\n",
            "Recall:  0.9807692307692307\n",
            "101\n",
            "Confusion Matrix\n",
            "[[49  0]\n",
            " [ 1 51]]\n",
            "Epoch Done\n",
            "Accuracy:  0.9801980198019802\n",
            "Recall:  1.0\n",
            "101\n",
            "Confusion Matrix\n",
            "[[47  2]\n",
            " [ 0 52]]\n",
            "Epoch Done\n",
            "Accuracy:  1.0\n",
            "Recall:  1.0\n",
            "101\n",
            "Confusion Matrix\n",
            "[[49  0]\n",
            " [ 0 52]]\n",
            "Epoch Done\n",
            "Accuracy:  0.9900990099009901\n",
            "Recall:  1.0\n",
            "101\n",
            "Confusion Matrix\n",
            "[[48  1]\n",
            " [ 0 52]]\n",
            "Epoch Done\n",
            "Accuracy:  0.9702970297029703\n",
            "Recall:  1.0\n",
            "101\n",
            "Confusion Matrix\n",
            "[[46  3]\n",
            " [ 0 52]]\n",
            "Epoch Done\n",
            "Accuracy:  0.9702970297029703\n",
            "Recall:  0.9615384615384616\n",
            "101\n",
            "Confusion Matrix\n",
            "[[48  1]\n",
            " [ 2 50]]\n",
            "Epoch Done\n",
            "Accuracy:  0.9702970297029703\n",
            "Recall:  0.9615384615384616\n",
            "101\n",
            "Confusion Matrix\n",
            "[[48  1]\n",
            " [ 2 50]]\n",
            "Epoch Done\n",
            "Accuracy:  1.0\n",
            "Recall:  1.0\n",
            "101\n",
            "Confusion Matrix\n",
            "[[49  0]\n",
            " [ 0 52]]\n",
            "Epoch Done\n",
            "Accuracy:  1.0\n",
            "Recall:  1.0\n",
            "101\n",
            "Confusion Matrix\n",
            "[[49  0]\n",
            " [ 0 52]]\n",
            "Epoch Done\n",
            "Accuracy:  1.0\n",
            "Recall:  1.0\n",
            "101\n",
            "Confusion Matrix\n",
            "[[49  0]\n",
            " [ 0 52]]\n",
            "Epoch Done\n",
            "Accuracy:  1.0\n",
            "Recall:  1.0\n",
            "101\n",
            "Confusion Matrix\n",
            "[[49  0]\n",
            " [ 0 52]]\n",
            "Epoch Done\n",
            "Accuracy:  1.0\n",
            "Recall:  1.0\n",
            "101\n",
            "Confusion Matrix\n",
            "[[49  0]\n",
            " [ 0 52]]\n",
            "Epoch Done\n",
            "Accuracy:  1.0\n",
            "Recall:  1.0\n",
            "101\n",
            "Confusion Matrix\n",
            "[[49  0]\n",
            " [ 0 52]]\n",
            "Epoch Done\n",
            "Accuracy:  1.0\n",
            "Recall:  1.0\n",
            "101\n",
            "Confusion Matrix\n",
            "[[49  0]\n",
            " [ 0 52]]\n",
            "Epoch Done\n",
            "Accuracy:  1.0\n",
            "Recall:  1.0\n",
            "101\n",
            "Confusion Matrix\n",
            "[[49  0]\n",
            " [ 0 52]]\n",
            "Epoch Done\n",
            "Accuracy:  1.0\n",
            "Recall:  1.0\n",
            "101\n",
            "Confusion Matrix\n",
            "[[49  0]\n",
            " [ 0 52]]\n",
            "Epoch Done\n",
            "Accuracy:  1.0\n",
            "Recall:  1.0\n",
            "101\n",
            "Confusion Matrix\n",
            "[[49  0]\n",
            " [ 0 52]]\n",
            "Epoch Done\n",
            "Accuracy:  1.0\n",
            "Recall:  1.0\n",
            "101\n",
            "Confusion Matrix\n",
            "[[49  0]\n",
            " [ 0 52]]\n",
            "Epoch Done\n",
            "Accuracy:  1.0\n",
            "Recall:  1.0\n",
            "101\n",
            "Confusion Matrix\n",
            "[[49  0]\n",
            " [ 0 52]]\n",
            "Epoch Done\n",
            "Accuracy:  1.0\n",
            "Recall:  1.0\n",
            "101\n",
            "Confusion Matrix\n",
            "[[49  0]\n",
            " [ 0 52]]\n"
          ]
        }
      ]
    },
    {
      "cell_type": "code",
      "source": [
        "\n",
        "labels = []\n",
        "preds = []\n",
        "loss = []\n",
        "model.eval()\n",
        "\n",
        "for seq, label in valid_dataloader:\n",
        "\n",
        "    seq = seq.reshape((-1, 6))\n",
        "    tag_scores = model(seq.to(torch.float))\n",
        "    preds.append(tag_scores.data)\n",
        "    labels.append(label.to(torch.float).data)\n",
        "\n",
        "print(\"Epoch Done\")\n",
        "get_statistics(labels, preds)"
      ],
      "metadata": {
        "colab": {
          "base_uri": "https://localhost:8080/"
        },
        "id": "PgRfl9f4AnAz",
        "outputId": "085b4cfe-6338-4b4b-9ae8-2bd25b98e7f4"
      },
      "execution_count": 13,
      "outputs": [
        {
          "output_type": "stream",
          "name": "stdout",
          "text": [
            "Epoch Done\n",
            "Accuracy:  0.8823529411764706\n",
            "Recall:  0.8571428571428571\n",
            "17\n",
            "Confusion Matrix\n",
            "[[9 1]\n",
            " [1 6]]\n"
          ]
        }
      ]
    },
    {
      "cell_type": "code",
      "source": [
        "torch.save(model.state_dict(), 'model_weights.pt')"
      ],
      "metadata": {
        "id": "MIG5VyYmGO47"
      },
      "execution_count": 18,
      "outputs": []
    },
    {
      "cell_type": "code",
      "source": [
        "from torch import nn\n",
        "import torch.nn.functional as F\n",
        "\n",
        "class FallDetector(nn.Module):\n",
        "    def __init__(self):\n",
        "        super(FallDetector, self).__init__()\n",
        "        self.gru = nn.GRU(6, 30, num_layers=2)\n",
        "        self.hidden2tag = nn.Linear(30, 1)\n",
        "\n",
        "    def forward(self, seq):\n",
        "        output, (h_n, c_n) = self.gru(seq.view(len(seq), 1, -1))\n",
        "        tag_space = self.hidden2tag(c_n.view(1, -1))\n",
        "        # print(tag_space.data)\n",
        "        tag_scores = torch.sigmoid(tag_space) # output changed to 0-1\n",
        "        return tag_scores.view(-1)\n",
        "\n",
        "model = FallDetector()\n",
        "model.load_state_dict(torch.load('model_weights.pt'))\n",
        "model.eval()"
      ],
      "metadata": {
        "colab": {
          "base_uri": "https://localhost:8080/"
        },
        "id": "GY_bnvaZGgNM",
        "outputId": "b1f19aa9-259e-4449-d6ce-f72e3afb6b8e"
      },
      "execution_count": 19,
      "outputs": [
        {
          "output_type": "execute_result",
          "data": {
            "text/plain": [
              "FallDetector(\n",
              "  (gru): GRU(6, 30, num_layers=2)\n",
              "  (hidden2tag): Linear(in_features=30, out_features=1, bias=True)\n",
              ")"
            ]
          },
          "metadata": {},
          "execution_count": 19
        }
      ]
    },
    {
      "cell_type": "code",
      "source": [
        "def fall_detected(labels):\n",
        "  fall_start = False\n",
        "  fall_detected = False\n",
        "  count = 0\n",
        "  for label in labels:\n",
        "    if label == 1:\n",
        "      if not fall_start:\n",
        "        fall_start = True\n",
        "        count = 1\n",
        "      else:\n",
        "        count += 1\n",
        "    else:\n",
        "      fall_start = False\n",
        "      count = 0\n",
        "    if count >= 10:\n",
        "      fall_detected = True\n",
        "      break\n",
        "  return fall_detected\n",
        "\n",
        "# labels = [0, 0, 0, 0, 0, 1, 1, 1, 1, 1, 1, 0, 0, 0]\n",
        "print(fall_detected(labels))"
      ],
      "metadata": {
        "colab": {
          "base_uri": "https://localhost:8080/"
        },
        "id": "zjsAAvzrInm3",
        "outputId": "be439d93-000c-496f-814f-3bcbf3ccf85f"
      },
      "execution_count": 14,
      "outputs": [
        {
          "output_type": "stream",
          "name": "stdout",
          "text": [
            "False\n"
          ]
        }
      ]
    },
    {
      "cell_type": "code",
      "source": [],
      "metadata": {
        "id": "AiQbXIaaZ-GI"
      },
      "execution_count": 14,
      "outputs": []
    }
  ],
  "metadata": {
    "colab": {
      "provenance": [],
      "mount_file_id": "1I2aAB8T2u5ZrvmJwWhYtpB5yLzHOA6yL",
      "authorship_tag": "ABX9TyP7otUhzWYlvupuGUkikPhh",
      "include_colab_link": true
    },
    "kernelspec": {
      "display_name": "Python 3",
      "name": "python3"
    },
    "language_info": {
      "name": "python"
    }
  },
  "nbformat": 4,
  "nbformat_minor": 0
}